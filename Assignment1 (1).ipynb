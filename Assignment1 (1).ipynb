{
  "cells": [
    {
      "cell_type": "markdown",
      "metadata": {
        "id": "RKboZnAdgrRM"
      },
      "source": [
        "# [NLP] Assignment 1: Tokenization\n",
        "\n",
        "In this assignment, you need to tokenize the text of the Twitter(X) users posts(tweets). The assignment consists of two tasks. When you finish all the tasks, create a GitHub repository for this assignment (you can use this repo later for the other assignments) and submit this notebook in the repository. Leave `requirements.txt` file if your code requires additional installations. Submit the link to the repository in Moodle.\n",
        "\n",
        "The [data](https://drive.google.com/file/d/15x_wPAflvYQ2Xh38iNQGrqUIWLj5l5Nw/view?usp=share_link) contains 5 files whereby each contains 44 tweets. Each tweet is separated by a newline."
      ]
    },
    {
      "cell_type": "markdown",
      "metadata": {
        "id": "aLDjjAvemUP_"
      },
      "source": [
        "## Task 1. Tokenize some tweets manually (20 points)\n",
        "\n",
        "As a first task you need to tokenize first 15 tweets from `file2` by hand. This will allow you to understand the problem from a linguistic point of view. The guidelines for tweet tokenization are as follows:\n",
        "\n",
        "- Each smiley is a separate token\n",
        "- Each hashtag is an individual token. Each user reference is an individual token\n",
        "- If a word has spaces between them then it is converted to a single token\n",
        "- All punctuations are individual tokens. This includes double-quotes and single quotes also\n",
        "- A URL is a single token\n",
        "\n",
        "Example of output\n",
        "\n",
        "    Input tweet\n",
        "    @xfranman Old age has made N A T O!\n",
        "\n",
        "    Tokenized tweet (separated by comma)\n",
        "    @xfranman , Old , age , has , made , NATO , !"
      ]
    },
    {
      "cell_type": "markdown",
      "metadata": {
        "id": "7KKKwTidnzUw"
      },
      "source": [
        "\n",
        "    1. Input tweet\n",
        "    Camping in Maine for the weekend. Hey Dad, Mama Loves YOU: http://www.mamapalooza.com\n",
        "    1. Tokenized tweet\n",
        "    Camping , in , Maine , for , the , weekend , . , Hey , Dad , , , Mama , Loves , YOU , : , http://www.mamapalooza.com\n",
        "\n",
        "    2. Input tweet\n",
        "    Its american tradition bitch\n",
        "    2. Tokenized tweet\n",
        "    Its , american , tradition , bitch\n",
        "    \n",
        "    3. Input tweet\n",
        "    @ThroughTheVoid They love it! The only pleasure they get in life. I actually do that. I'm sure I hear a tiny squeak... Then louder ones\n",
        "    3. Tokenized tweet\n",
        "    @ThroughTheVoid , They , love , it , ! , The , only , pleasure , they , get , in , life , . , I , actually , do , that , . , I , 'm , sure , I , hear , a , tiny , squeak , ... , Then , louder , ones\n",
        "\n",
        "    4. Input tweet\n",
        "    \" RT @latti: @AbsoHilare stop tweeting in church! Lol <--- \"\"I tweet because I'm happy, I tweet because I'm free\"\" LOL!\"\n",
        "    4. Tokenized tweet\n",
        "    \" , RT , @latti , : , @AbsoHilare , stop , tweeting , in , church , ! , Lol , <--- , \" , \" , I , tweet , because , I , 'm , happy , , , I , tweet , because , I , 'm , free , \" , \" , LOL , ! , \"\n",
        "    \n",
        "    5. Input tweet\n",
        "    Samsung Mini S2 portable HDD graced with colors that perfectly match your tacky beach gear: Sammy's done it aga.. http://tinyurl.com/lb5p6m\n",
        "    5. Tokenized tweet\n",
        "    Samsung , Mini , S2 , portable , HDD , graced , with , colors , that , perfectly , match  , your , tacky , beach , gear , : , Sammy , 's , done , it , aga.. , http://tinyurl.com/lb5p6m\n",
        "\n",
        "    6. Input tweet\n",
        "    @dialloc congrats on finding your way over. it may be slow going at first. hang in there. it's kinda cool when u get up to speed.\n",
        "    6. Tokenized tweet\n",
        "    @dialloc , congrats , on , finding , your , way , over , . , it , may , be , slow , going , at , first , . , hang , in , there , . , it , 's , kinda , cool , when , u , get , up , to , speed , .\n",
        "    \n",
        "    7. Input tweet\n",
        "    iPhone activation delays continue, Apple offers $30 http://twt.gs/l3Ki\n",
        "    7. Tokenized tweet\n",
        "    iPhone , activation , delays , continue , , , Apple , offers , $30 , http://twt.gs/l3Ki\n",
        "\n",
        "    8. Input tweet\n",
        "    RT @GoogleAtWork Gmail maximum attachment size now 25MB http://bit.ly/62mjw Nice!!!\n",
        "    8. Tokenized tweet\n",
        "    RT , @GoogleAtWork , Gmail , maximum , attachment , size , now , 25MB , http://bit.ly/62mjw , Nice , ! , ! , !\n",
        "    \n",
        "    9. Input tweet\n",
        "    RT @acfou The Ads Won Awards for Crispin; But Did Nothing for Client BurgerKing's Sales/Marketshare - Big Surprise - http://ping.fm/vw8TI\n",
        "    9. Tokenized tweet\n",
        "    RT , @acfou , The , Ads , Won , Awards , for , Crispin , ; , But , Did , Nothing , for , Client , BurgerKing's , Sales , / , Marketshare , - , Big , Surprise , - , http://ping.fm/vw8TI\n",
        "\n",
        "    10. Input tweet\n",
        "    Hey doll! Great I missed True Blood yday boo lol Rt @FrankBanuat78 @jhillstephens Hello Sunshine how are u today? :-)\n",
        "    10. Tokenized tweet\n",
        "    Hey , doll , ! , Great , I , missed , True , Blood , yday , boo , lol , Rt , @FrankBanuat78 , @jhillstephens , Hello , Sunshine , how , are , u , today , ? , :-)\n",
        "\n",
        "    11. Input tweet\n",
        "    Australian artist Pogo made these free songs primarily from sampled audio from Alice In Wonderland. http://www.last.fm/music/Pogo/Wonderland\n",
        "    11. Tokenized tweet\n",
        "    Australian , artist , Pogo , made , these , free , songs , primarily , from , sampled , audio , from , Alice , In , Wonderland , . , http://www.last.fm/music/Pogo/Wonderland\n",
        "\n",
        "    12. Input tweet\n",
        "    @mppritchard they wanted to sell all the preorders & then sell all of the ones they had in stock to those that just walked in. Can't do both\n",
        "    12. Tokenized tweet\n",
        "    @mppritchard , they , wanted , to , sell , all , the , preorders , & , then , sell , all , of , the , ones , they , had , in , stock , to , those , that , just , walked , in , . , Can't , do , both\n",
        "    \n",
        "    13. Input tweet\n",
        "    Incoming: Frightened Rabbit, Sept. 22 (Tucson): If Fat Cat Records is going to send three great bands from Scot.. http://tinyurl.com/nz6xcv\n",
        "    13. Tokenized tweet\n",
        "    Incoming , : , Frightened , Rabbit , , , Sept , . , 22 , ( , Tucson , ) , : , If , Fat , Cat , Records , is , going , to , send , three , great , bands , from , Scot.. , http://tinyurl.com/nz6xcv\n",
        "\n",
        "    14. Input tweet\n",
        "    Hey @ginoandfran please greet philip! (GinoandFran live > http://ustre.am/2YyQ)\n",
        "    14. Tokenized tweet\n",
        "    Hey , @ginoandfran , please , greet , philip , ! , ( , GinoandFran , live , > , http://ustre.am/2YyQ , )\n",
        "    \n",
        "    15. Input tweet\n",
        "    Ik weet niet wie er achter de T-Mobile iPhone Twitter zit maar ik vind het niet echt 'corporate' taalgebruik... Best vreemd eigenlijk\n",
        "    15. Tokenized tweet\n",
        "    Ik , weet , niet , wie , er , achter , de , T-Mobile , iPhone , Twitter , zit , maar , ik , vind , het , niet , echt , ' , corporate , ' , taalgebruik , ... , Best , vreemd , eigenlijk"
      ]
    },
    {
      "cell_type": "markdown",
      "metadata": {
        "id": "-2J2AD2nmUhi"
      },
      "source": [
        "## Task 2. Implement [Byte-Pair Encoding(BPE)](https://arxiv.org/pdf/1508.07909.pdf) Tokenizer (80 points)\n",
        "\n",
        "### Task 2.1. Implementation (60 points)\n",
        "\n",
        "Implement the tokenizer as the BPETokenizer class:\n",
        "* Implement `train` method that learns merges and builds the vocabulary of the specified `vocab_size` (25 points).\n",
        "* Implement `tokenize` method that should tokenize the text according to the learnt merges (25 points).\n",
        "\n",
        "Your code should have docstrings and comments (10 points)."
      ]
    },
    {
      "cell_type": "code",
      "execution_count": 2,
      "metadata": {},
      "outputs": [
        {
          "name": "stdout",
          "output_type": "stream",
          "text": [
            "['this', 'is', 'a', 'test', 'o', 'f', 'th', 'e', 't', 'o', 'k', 'e', 'n', 'i', 'z', 'e', 'r']\n"
          ]
        }
      ],
      "source": [
        "from typing import List, Dict, Tuple\n",
        "from collections import Counter, defaultdict\n",
        "\n",
        "class BPETokenizer:\n",
        "    def __init__(self, vocab_size: int) -> None:\n",
        "        self.vocab_size = vocab_size\n",
        "        self.vocab = {}\n",
        "        self.merges = []\n",
        "\n",
        "    def get_stats(self, word_counts: Dict[str, int]) -> Dict[Tuple[str, str], int]:\n",
        "        \"\"\"Calculate the frequency of each pair of symbols/tokens.\"\"\"\n",
        "        pairs = defaultdict(int)\n",
        "        for word, freq in word_counts.items():\n",
        "            symbols = word.split()\n",
        "            for i in range(len(symbols) - 1):\n",
        "                pairs[symbols[i], symbols[i + 1]] += freq\n",
        "        return pairs\n",
        "\n",
        "    def merge_vocab(self, pair: Tuple[str, str], word_counts: Dict[str, int]) -> Dict[str, int]:\n",
        "        \"\"\"Merge the most frequent pair in the vocabulary.\"\"\"\n",
        "        new_word_counts = {}\n",
        "        bigram = ' '.join(pair)\n",
        "        replacer = ''.join(pair)\n",
        "        for word in word_counts:\n",
        "            new_word = word.replace(bigram, replacer)\n",
        "            new_word_counts[new_word] = word_counts[word]\n",
        "        return new_word_counts\n",
        "\n",
        "    def train(self, corpus: List[str]) -> None:\n",
        "        \"\"\"Learn merges and build the vocabulary from the corpus.\"\"\"\n",
        "        # Initialize word count\n",
        "        word_counts = Counter(\" \".join(word) for word in corpus)  # Split words into characters\n",
        "\n",
        "        # Training loop\n",
        "        for _ in range(self.vocab_size - len(self.vocab)):\n",
        "            pairs = self.get_stats(word_counts)\n",
        "            if not pairs:\n",
        "                break\n",
        "            best_pair = max(pairs, key=pairs.get)\n",
        "            if pairs[best_pair] < 2:\n",
        "                # Stop if the most frequent pair is not frequent enough\n",
        "                break\n",
        "            word_counts = self.merge_vocab(best_pair, word_counts)\n",
        "            self.merges.append(best_pair)\n",
        "            self.vocab[''.join(best_pair)] = pairs[best_pair]\n",
        "\n",
        "        # Add single characters to the vocab\n",
        "        for word in corpus:\n",
        "            for char in word:\n",
        "                if char not in self.vocab:\n",
        "                    self.vocab[char] = 1\n",
        "\n",
        "    def tokenize(self, text: str) -> List[str]:\n",
        "        \"\"\"Tokenize the text according to the learned merges.\"\"\"\n",
        "        text = \" \".join(text)  # Start by splitting into characters\n",
        "        for merge in self.merges:\n",
        "            bigram = ' '.join(merge)\n",
        "            replacement = ''.join(merge)\n",
        "            text = text.replace(bigram, replacement)\n",
        "        return text.split()\n",
        "\n",
        "corpus = [\n",
        "    \"this is a test\",\n",
        "    \"this is another test\",\n",
        "    \"test the tokenizer\",\n",
        "]\n",
        "vocab_size = 50\n",
        "tokenizer = BPETokenizer(vocab_size=vocab_size)\n",
        "tokenizer.train(corpus)\n",
        "tokenized_text = tokenizer.tokenize(\"this is a test of the tokenizer\")\n",
        "print(tokenized_text)"
      ]
    },
    {
      "cell_type": "markdown",
      "metadata": {},
      "source": [
        "### Task 2.2. Analysis on Tweets Dataset (10 points)\n",
        "\n",
        "Train the BPE tokenizer on the tweets dataset. Try to tokenize the tweets with the tokenizer of different `vocab_size`. For example, train the BPE tokenizer with `vocab_size` of [base_vocab_size, 250, 500, 750, 1000]. Plot the dependency of the average length of the tokenized tweet by `vocab_size` to analyze how `vocab_size` affects the length of the tokenized tweet on average. Tell what `vocab_size` is preferrable and why."
      ]
    },
    {
      "cell_type": "code",
      "execution_count": 3,
      "metadata": {},
      "outputs": [
        {
          "name": "stderr",
          "output_type": "stream",
          "text": [
            "c:\\Users\\Dasha\\miniconda3\\lib\\site-packages\\numpy\\_distributor_init.py:30: UserWarning: loaded more than 1 DLL from .libs:\n",
            "c:\\Users\\Dasha\\miniconda3\\lib\\site-packages\\numpy\\.libs\\libopenblas.GK7GX5KEQ4F6UYO3P26ULGBQYHGQO7J4.gfortran-win_amd64.dll\n",
            "c:\\Users\\Dasha\\miniconda3\\lib\\site-packages\\numpy\\.libs\\libopenblas64__v0.3.21-gcc_10_3_0.dll\n",
            "  warnings.warn(\"loaded more than 1 DLL from .libs:\"\n"
          ]
        }
      ],
      "source": [
        "import pandas as pd\n",
        "\n",
        "def read_tweets_from_files(file_paths):\n",
        "    tweets = []\n",
        "    for file_path in file_paths:\n",
        "        with open(file_path, 'r', encoding='utf-8') as file:\n",
        "            tweets.extend(file.readlines())\n",
        "    return tweets\n",
        "\n",
        "file_paths = ['data/file1', 'data/file2', 'data/file3', 'data/file4', 'data/file5']\n",
        "tweets = read_tweets_from_files(file_paths)\n"
      ]
    },
    {
      "cell_type": "code",
      "execution_count": 4,
      "metadata": {},
      "outputs": [],
      "source": [
        "vocab_sizes = [ 250, 500, 750, 1000]\n",
        "tokenizers = {size: BPETokenizer(vocab_size=size) for size in vocab_sizes}\n",
        "\n",
        "for size, tokenizer in tokenizers.items():\n",
        "    tokenizer.train(tweets)\n"
      ]
    },
    {
      "cell_type": "code",
      "execution_count": 5,
      "metadata": {},
      "outputs": [],
      "source": [
        "def average_tokenized_length(tokenizer, texts):\n",
        "    lengths = [len(tokenizer.tokenize(text)) for text in texts]\n",
        "    return sum(lengths) / len(lengths)\n",
        "\n",
        "average_lengths = {size: average_tokenized_length(tokenizer, tweets) for size, tokenizer in tokenizers.items()}\n"
      ]
    },
    {
      "cell_type": "code",
      "execution_count": 6,
      "metadata": {},
      "outputs": [
        {
          "data": {
            "image/png": "[encoded data removed]",
            "text/plain": [
              "<Figure size 640x480 with 1 Axes>"
            ]
          },
          "metadata": {},
          "output_type": "display_data"
        }
      ],
      "source": [
        "import matplotlib.pyplot as plt\n",
        "\n",
        "plt.plot(list(average_lengths.keys()), list(average_lengths.values()))\n",
        "plt.xlabel('Vocabulary Size')\n",
        "plt.ylabel('Average Tokenized Tweet Length')\n",
        "plt.title('Effect of Vocabulary Size on Average Tokenized Tweet Length')\n",
        "plt.show()\n"
      ]
    },
    {
      "cell_type": "markdown",
      "metadata": {},
      "source": [
        "### Task 2.3. Analysis on Dataset of Different Language (10 points)\n",
        "\n",
        "Find a small dataset of texts in a language other than English. The dataset size should be not greater than several megabytes.\n",
        "\n",
        "Train the BPE tokenizer on the dataset that you found. Try to tokenize the sentences from this dataset with the tokenizer of different `vocab_size`. Plot the dependency of the average length of the tokenized sentence by `vocab_size` to analyze how `vocab_size` affects the length of the tokenized sentence on average.\n",
        "\n",
        "Tell how how the average length of the tokenized sentence differs from the average length of the tokenized tweet. Explain why. "
      ]
    },
    {
      "cell_type": "code",
      "execution_count": null,
      "metadata": {},
      "outputs": [],
      "source": [
        "# Your code here"
      ]
    }
  ],
  "metadata": {
    "colab": {
      "provenance": [],
      "toc_visible": true
    },
    "kernelspec": {
      "display_name": "Python 3",
      "name": "python3"
    },
    "language_info": {
      "codemirror_mode": {
        "name": "ipython",
        "version": 3
      },
      "file_extension": ".py",
      "mimetype": "text/x-python",
      "name": "python",
      "nbconvert_exporter": "python",
      "pygments_lexer": "ipython3",
      "version": "3.9.18"
    }
  },
  "nbformat": 4,
  "nbformat_minor": 0
}
